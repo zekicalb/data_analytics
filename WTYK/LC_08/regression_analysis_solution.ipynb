{
 "cells": [
  {
   "cell_type": "markdown",
   "metadata": {},
   "source": [
    "# Regression analysis"
   ]
  },
  {
   "cell_type": "markdown",
   "metadata": {},
   "source": [
    "## Libraries and settings"
   ]
  },
  {
   "cell_type": "code",
   "execution_count": 23,
   "metadata": {},
   "outputs": [
    {
     "name": "stdout",
     "output_type": "stream",
     "text": [
      "u:\\Lektionen\\GitHub_Repositories\\data_analytics\\WTYK\\LC_08\n"
     ]
    }
   ],
   "source": [
    "# Libraries\n",
    "import os\n",
    "import numpy as np\n",
    "import pandas as pd\n",
    "import scipy.stats as stats\n",
    "import statsmodels.api as sm\n",
    "import matplotlib.pyplot as plt\n",
    "from sklearn import linear_model\n",
    "from sklearn.metrics import r2_score\n",
    "from sklearn.datasets import make_regression\n",
    "from sklearn.ensemble import RandomForestRegressor\n",
    "from sklearn.model_selection import train_test_split\n",
    "\n",
    "# Ignore warnings\n",
    "import warnings\n",
    "warnings.filterwarnings('ignore')\n",
    "\n",
    "# Show current working directory\n",
    "print(os.getcwd())"
   ]
  },
  {
   "cell_type": "markdown",
   "metadata": {},
   "source": [
    "## Import data"
   ]
  },
  {
   "cell_type": "code",
   "execution_count": 24,
   "metadata": {},
   "outputs": [
    {
     "data": {
      "text/html": [
       "<div>\n",
       "<style scoped>\n",
       "    .dataframe tbody tr th:only-of-type {\n",
       "        vertical-align: middle;\n",
       "    }\n",
       "\n",
       "    .dataframe tbody tr th {\n",
       "        vertical-align: top;\n",
       "    }\n",
       "\n",
       "    .dataframe thead th {\n",
       "        text-align: right;\n",
       "    }\n",
       "</style>\n",
       "<table border=\"1\" class=\"dataframe\">\n",
       "  <thead>\n",
       "    <tr style=\"text-align: right;\">\n",
       "      <th></th>\n",
       "      <th>Offer_Id</th>\n",
       "      <th>Fuel_Type</th>\n",
       "      <th>Transmission</th>\n",
       "      <th>Make</th>\n",
       "      <th>Mileage</th>\n",
       "      <th>HP</th>\n",
       "      <th>Price</th>\n",
       "      <th>Year</th>\n",
       "    </tr>\n",
       "  </thead>\n",
       "  <tbody>\n",
       "    <tr>\n",
       "      <th>0</th>\n",
       "      <td>7324420</td>\n",
       "      <td>Diesel</td>\n",
       "      <td>Automatisiertes Schaltgetriebe</td>\n",
       "      <td>AUDI</td>\n",
       "      <td>75000</td>\n",
       "      <td>245</td>\n",
       "      <td>22500</td>\n",
       "      <td>2014</td>\n",
       "    </tr>\n",
       "    <tr>\n",
       "      <th>1</th>\n",
       "      <td>7512768</td>\n",
       "      <td>Benzin</td>\n",
       "      <td>Automat sequentiell</td>\n",
       "      <td>MERCEDES-BENZ</td>\n",
       "      <td>46655</td>\n",
       "      <td>184</td>\n",
       "      <td>23749</td>\n",
       "      <td>2013</td>\n",
       "    </tr>\n",
       "    <tr>\n",
       "      <th>2</th>\n",
       "      <td>7512034</td>\n",
       "      <td>Benzin</td>\n",
       "      <td>Automat sequentiell</td>\n",
       "      <td>MERCEDES-BENZ</td>\n",
       "      <td>138955</td>\n",
       "      <td>306</td>\n",
       "      <td>18500</td>\n",
       "      <td>2011</td>\n",
       "    </tr>\n",
       "    <tr>\n",
       "      <th>3</th>\n",
       "      <td>7512728</td>\n",
       "      <td>Benzin</td>\n",
       "      <td>Automatisiertes Schaltgetriebe</td>\n",
       "      <td>MERCEDES-BENZ</td>\n",
       "      <td>43000</td>\n",
       "      <td>360</td>\n",
       "      <td>36000</td>\n",
       "      <td>2015</td>\n",
       "    </tr>\n",
       "    <tr>\n",
       "      <th>4</th>\n",
       "      <td>7490242</td>\n",
       "      <td>Benzin</td>\n",
       "      <td>Automatisiertes Schaltgetriebe</td>\n",
       "      <td>AUDI</td>\n",
       "      <td>43300</td>\n",
       "      <td>252</td>\n",
       "      <td>48500</td>\n",
       "      <td>2018</td>\n",
       "    </tr>\n",
       "    <tr>\n",
       "      <th>...</th>\n",
       "      <td>...</td>\n",
       "      <td>...</td>\n",
       "      <td>...</td>\n",
       "      <td>...</td>\n",
       "      <td>...</td>\n",
       "      <td>...</td>\n",
       "      <td>...</td>\n",
       "      <td>...</td>\n",
       "    </tr>\n",
       "    <tr>\n",
       "      <th>3964</th>\n",
       "      <td>6058456</td>\n",
       "      <td>Benzin</td>\n",
       "      <td>Automat</td>\n",
       "      <td>BENTLEY</td>\n",
       "      <td>26200</td>\n",
       "      <td>405</td>\n",
       "      <td>38500</td>\n",
       "      <td>2001</td>\n",
       "    </tr>\n",
       "    <tr>\n",
       "      <th>3966</th>\n",
       "      <td>7137137</td>\n",
       "      <td>Benzin</td>\n",
       "      <td>Automatisiertes Schaltgetriebe</td>\n",
       "      <td>FERRARI</td>\n",
       "      <td>78000</td>\n",
       "      <td>400</td>\n",
       "      <td>58400</td>\n",
       "      <td>2002</td>\n",
       "    </tr>\n",
       "    <tr>\n",
       "      <th>3967</th>\n",
       "      <td>6758841</td>\n",
       "      <td>Benzin</td>\n",
       "      <td>Automatik-Getriebe</td>\n",
       "      <td>MERCEDES-BENZ</td>\n",
       "      <td>315000</td>\n",
       "      <td>232</td>\n",
       "      <td>15900</td>\n",
       "      <td>1987</td>\n",
       "    </tr>\n",
       "    <tr>\n",
       "      <th>3968</th>\n",
       "      <td>7461330</td>\n",
       "      <td>Benzin</td>\n",
       "      <td>Automat sequentiell</td>\n",
       "      <td>MERCEDES-BENZ</td>\n",
       "      <td>85000</td>\n",
       "      <td>525</td>\n",
       "      <td>42000</td>\n",
       "      <td>2007</td>\n",
       "    </tr>\n",
       "    <tr>\n",
       "      <th>3970</th>\n",
       "      <td>7200843</td>\n",
       "      <td>Benzin</td>\n",
       "      <td>Schaltgetriebe manuell</td>\n",
       "      <td>BMW</td>\n",
       "      <td>134000</td>\n",
       "      <td>193</td>\n",
       "      <td>13500</td>\n",
       "      <td>1999</td>\n",
       "    </tr>\n",
       "  </tbody>\n",
       "</table>\n",
       "<p>2845 rows × 8 columns</p>\n",
       "</div>"
      ],
      "text/plain": [
       "      Offer_Id Fuel_Type                    Transmission           Make  \\\n",
       "0      7324420    Diesel  Automatisiertes Schaltgetriebe           AUDI   \n",
       "1      7512768    Benzin             Automat sequentiell  MERCEDES-BENZ   \n",
       "2      7512034    Benzin             Automat sequentiell  MERCEDES-BENZ   \n",
       "3      7512728    Benzin  Automatisiertes Schaltgetriebe  MERCEDES-BENZ   \n",
       "4      7490242    Benzin  Automatisiertes Schaltgetriebe           AUDI   \n",
       "...        ...       ...                             ...            ...   \n",
       "3964   6058456    Benzin                         Automat        BENTLEY   \n",
       "3966   7137137    Benzin  Automatisiertes Schaltgetriebe        FERRARI   \n",
       "3967   6758841    Benzin              Automatik-Getriebe  MERCEDES-BENZ   \n",
       "3968   7461330    Benzin             Automat sequentiell  MERCEDES-BENZ   \n",
       "3970   7200843    Benzin          Schaltgetriebe manuell            BMW   \n",
       "\n",
       "      Mileage   HP  Price  Year  \n",
       "0       75000  245  22500  2014  \n",
       "1       46655  184  23749  2013  \n",
       "2      138955  306  18500  2011  \n",
       "3       43000  360  36000  2015  \n",
       "4       43300  252  48500  2018  \n",
       "...       ...  ...    ...   ...  \n",
       "3964    26200  405  38500  2001  \n",
       "3966    78000  400  58400  2002  \n",
       "3967   315000  232  15900  1987  \n",
       "3968    85000  525  42000  2007  \n",
       "3970   134000  193  13500  1999  \n",
       "\n",
       "[2845 rows x 8 columns]"
      ]
     },
     "execution_count": 24,
     "metadata": {},
     "output_type": "execute_result"
    }
   ],
   "source": [
    "# Columns\n",
    "columns = ['Offer_Id', \n",
    "           'Price_num', \n",
    "           'Mileage_num', \n",
    "           'HP_num', \n",
    "           'Make', \n",
    "           'Fuel_Type', \n",
    "           'Transmission', \n",
    "           'Init_Regist_MY']\n",
    "\n",
    "# Read the data\n",
    "df_orig = pd.read_csv('autoscout24_data_prepared.csv', \n",
    "                      sep=\",\", \n",
    "                      encoding='utf-8',\n",
    "                      usecols=columns)\n",
    "\n",
    "# Rename variable 'web-scraper-order' to 'apmt_id'\n",
    "df_orig = df_orig.rename(columns={'Mileage_num': 'Mileage',\n",
    "                                  'HP_num': 'HP',\n",
    "                                  'Price_num': 'Price'})\n",
    "\n",
    "# Extract year\n",
    "df_orig['Init_Regist_MY'] = df_orig['Init_Regist_MY'].astype(str)\n",
    "df_orig['Year'] = df_orig['Init_Regist_MY'].str.split('.').str[1].astype(int)\n",
    "df_orig.drop('Init_Regist_MY', axis=1, inplace=True)\n",
    "\n",
    "# Remove missing values\n",
    "df = df_orig.dropna()\n",
    "df.head(5)\n",
    "\n",
    "# Remove duplicates\n",
    "df = df.drop_duplicates()\n",
    "df.head(5)\n",
    "\n",
    "# Remove some extreme prices; keep only fuel type 'Diesel' and 'Benzin'\n",
    "df = df.loc[(df['Price'] >= 10000) & (df['Price'] <= 100000) & (df['Fuel_Type'].isin(['Diesel','Benzin']))]\n",
    "df\n"
   ]
  },
  {
   "cell_type": "markdown",
   "metadata": {},
   "source": [
    "## One-hot encoding of categorical variables"
   ]
  },
  {
   "cell_type": "code",
   "execution_count": 25,
   "metadata": {},
   "outputs": [
    {
     "data": {
      "text/html": [
       "<div>\n",
       "<style scoped>\n",
       "    .dataframe tbody tr th:only-of-type {\n",
       "        vertical-align: middle;\n",
       "    }\n",
       "\n",
       "    .dataframe tbody tr th {\n",
       "        vertical-align: top;\n",
       "    }\n",
       "\n",
       "    .dataframe thead th {\n",
       "        text-align: right;\n",
       "    }\n",
       "</style>\n",
       "<table border=\"1\" class=\"dataframe\">\n",
       "  <thead>\n",
       "    <tr style=\"text-align: right;\">\n",
       "      <th></th>\n",
       "      <th>Offer_Id</th>\n",
       "      <th>Fuel_Type</th>\n",
       "      <th>Transmission</th>\n",
       "      <th>Make</th>\n",
       "      <th>Mileage</th>\n",
       "      <th>HP</th>\n",
       "      <th>Price</th>\n",
       "      <th>Year</th>\n",
       "      <th>Benzin</th>\n",
       "      <th>Diesel</th>\n",
       "    </tr>\n",
       "  </thead>\n",
       "  <tbody>\n",
       "    <tr>\n",
       "      <th>0</th>\n",
       "      <td>7324420</td>\n",
       "      <td>Diesel</td>\n",
       "      <td>Automatisiertes Schaltgetriebe</td>\n",
       "      <td>AUDI</td>\n",
       "      <td>75000</td>\n",
       "      <td>245</td>\n",
       "      <td>22500</td>\n",
       "      <td>2014</td>\n",
       "      <td>0</td>\n",
       "      <td>1</td>\n",
       "    </tr>\n",
       "    <tr>\n",
       "      <th>1</th>\n",
       "      <td>7512768</td>\n",
       "      <td>Benzin</td>\n",
       "      <td>Automat sequentiell</td>\n",
       "      <td>MERCEDES-BENZ</td>\n",
       "      <td>46655</td>\n",
       "      <td>184</td>\n",
       "      <td>23749</td>\n",
       "      <td>2013</td>\n",
       "      <td>1</td>\n",
       "      <td>0</td>\n",
       "    </tr>\n",
       "    <tr>\n",
       "      <th>2</th>\n",
       "      <td>7512034</td>\n",
       "      <td>Benzin</td>\n",
       "      <td>Automat sequentiell</td>\n",
       "      <td>MERCEDES-BENZ</td>\n",
       "      <td>138955</td>\n",
       "      <td>306</td>\n",
       "      <td>18500</td>\n",
       "      <td>2011</td>\n",
       "      <td>1</td>\n",
       "      <td>0</td>\n",
       "    </tr>\n",
       "    <tr>\n",
       "      <th>3</th>\n",
       "      <td>7512728</td>\n",
       "      <td>Benzin</td>\n",
       "      <td>Automatisiertes Schaltgetriebe</td>\n",
       "      <td>MERCEDES-BENZ</td>\n",
       "      <td>43000</td>\n",
       "      <td>360</td>\n",
       "      <td>36000</td>\n",
       "      <td>2015</td>\n",
       "      <td>1</td>\n",
       "      <td>0</td>\n",
       "    </tr>\n",
       "    <tr>\n",
       "      <th>4</th>\n",
       "      <td>7490242</td>\n",
       "      <td>Benzin</td>\n",
       "      <td>Automatisiertes Schaltgetriebe</td>\n",
       "      <td>AUDI</td>\n",
       "      <td>43300</td>\n",
       "      <td>252</td>\n",
       "      <td>48500</td>\n",
       "      <td>2018</td>\n",
       "      <td>1</td>\n",
       "      <td>0</td>\n",
       "    </tr>\n",
       "    <tr>\n",
       "      <th>...</th>\n",
       "      <td>...</td>\n",
       "      <td>...</td>\n",
       "      <td>...</td>\n",
       "      <td>...</td>\n",
       "      <td>...</td>\n",
       "      <td>...</td>\n",
       "      <td>...</td>\n",
       "      <td>...</td>\n",
       "      <td>...</td>\n",
       "      <td>...</td>\n",
       "    </tr>\n",
       "    <tr>\n",
       "      <th>3964</th>\n",
       "      <td>6058456</td>\n",
       "      <td>Benzin</td>\n",
       "      <td>Automat</td>\n",
       "      <td>BENTLEY</td>\n",
       "      <td>26200</td>\n",
       "      <td>405</td>\n",
       "      <td>38500</td>\n",
       "      <td>2001</td>\n",
       "      <td>1</td>\n",
       "      <td>0</td>\n",
       "    </tr>\n",
       "    <tr>\n",
       "      <th>3966</th>\n",
       "      <td>7137137</td>\n",
       "      <td>Benzin</td>\n",
       "      <td>Automatisiertes Schaltgetriebe</td>\n",
       "      <td>FERRARI</td>\n",
       "      <td>78000</td>\n",
       "      <td>400</td>\n",
       "      <td>58400</td>\n",
       "      <td>2002</td>\n",
       "      <td>1</td>\n",
       "      <td>0</td>\n",
       "    </tr>\n",
       "    <tr>\n",
       "      <th>3967</th>\n",
       "      <td>6758841</td>\n",
       "      <td>Benzin</td>\n",
       "      <td>Automatik-Getriebe</td>\n",
       "      <td>MERCEDES-BENZ</td>\n",
       "      <td>315000</td>\n",
       "      <td>232</td>\n",
       "      <td>15900</td>\n",
       "      <td>1987</td>\n",
       "      <td>1</td>\n",
       "      <td>0</td>\n",
       "    </tr>\n",
       "    <tr>\n",
       "      <th>3968</th>\n",
       "      <td>7461330</td>\n",
       "      <td>Benzin</td>\n",
       "      <td>Automat sequentiell</td>\n",
       "      <td>MERCEDES-BENZ</td>\n",
       "      <td>85000</td>\n",
       "      <td>525</td>\n",
       "      <td>42000</td>\n",
       "      <td>2007</td>\n",
       "      <td>1</td>\n",
       "      <td>0</td>\n",
       "    </tr>\n",
       "    <tr>\n",
       "      <th>3970</th>\n",
       "      <td>7200843</td>\n",
       "      <td>Benzin</td>\n",
       "      <td>Schaltgetriebe manuell</td>\n",
       "      <td>BMW</td>\n",
       "      <td>134000</td>\n",
       "      <td>193</td>\n",
       "      <td>13500</td>\n",
       "      <td>1999</td>\n",
       "      <td>1</td>\n",
       "      <td>0</td>\n",
       "    </tr>\n",
       "  </tbody>\n",
       "</table>\n",
       "<p>2845 rows × 10 columns</p>\n",
       "</div>"
      ],
      "text/plain": [
       "      Offer_Id Fuel_Type                    Transmission           Make  \\\n",
       "0      7324420    Diesel  Automatisiertes Schaltgetriebe           AUDI   \n",
       "1      7512768    Benzin             Automat sequentiell  MERCEDES-BENZ   \n",
       "2      7512034    Benzin             Automat sequentiell  MERCEDES-BENZ   \n",
       "3      7512728    Benzin  Automatisiertes Schaltgetriebe  MERCEDES-BENZ   \n",
       "4      7490242    Benzin  Automatisiertes Schaltgetriebe           AUDI   \n",
       "...        ...       ...                             ...            ...   \n",
       "3964   6058456    Benzin                         Automat        BENTLEY   \n",
       "3966   7137137    Benzin  Automatisiertes Schaltgetriebe        FERRARI   \n",
       "3967   6758841    Benzin              Automatik-Getriebe  MERCEDES-BENZ   \n",
       "3968   7461330    Benzin             Automat sequentiell  MERCEDES-BENZ   \n",
       "3970   7200843    Benzin          Schaltgetriebe manuell            BMW   \n",
       "\n",
       "      Mileage   HP  Price  Year  Benzin  Diesel  \n",
       "0       75000  245  22500  2014       0       1  \n",
       "1       46655  184  23749  2013       1       0  \n",
       "2      138955  306  18500  2011       1       0  \n",
       "3       43000  360  36000  2015       1       0  \n",
       "4       43300  252  48500  2018       1       0  \n",
       "...       ...  ...    ...   ...     ...     ...  \n",
       "3964    26200  405  38500  2001       1       0  \n",
       "3966    78000  400  58400  2002       1       0  \n",
       "3967   315000  232  15900  1987       1       0  \n",
       "3968    85000  525  42000  2007       1       0  \n",
       "3970   134000  193  13500  1999       1       0  \n",
       "\n",
       "[2845 rows x 10 columns]"
      ]
     },
     "execution_count": 25,
     "metadata": {},
     "output_type": "execute_result"
    }
   ],
   "source": [
    "# Perform one-hot encoding\n",
    "one_hot_encoded = pd.get_dummies(df['Fuel_Type']).astype(int)\n",
    "\n",
    "# Concatenate the new one-hot encoded columns with the original DataFrame\n",
    "df = pd.concat([df, one_hot_encoded], axis=1)\n",
    "\n",
    "# Show the new DataFrame with one-hot encoding\n",
    "df"
   ]
  },
  {
   "cell_type": "markdown",
   "metadata": {},
   "source": [
    "## Create train and test samples (train = 80%, test = 20% of the data)"
   ]
  },
  {
   "cell_type": "code",
   "execution_count": 26,
   "metadata": {},
   "outputs": [
    {
     "name": "stdout",
     "output_type": "stream",
     "text": [
      "X_train:\n",
      "      Mileage   HP  Year  Benzin\n",
      "968     64000  136  2014       0\n",
      "3914   205000  400     2       1\n",
      "3068    52700  211   201       1\n",
      "1047   270000  258  2014       0\n",
      "2700    39000  105  2015       1 \n",
      "\n",
      "y_train:\n",
      "968     22900\n",
      "3914    19500\n",
      "3068    15900\n",
      "1047    28000\n",
      "2700    10900\n",
      "Name: Price, dtype: int64\n"
     ]
    }
   ],
   "source": [
    "# Create train and test samples\n",
    "X_train, X_test, y_train, y_test = train_test_split(df[['Mileage', 'HP', 'Year', 'Benzin']], \n",
    "                                                    df['Price'], \n",
    "                                                    test_size=0.20, \n",
    "                                                    random_state=42)\n",
    "# Show X_train\n",
    "print('X_train:')\n",
    "print(X_train.head(), '\\n')\n",
    "\n",
    "# Show y_train\n",
    "print('y_train:')\n",
    "print(y_train.head())"
   ]
  },
  {
   "cell_type": "markdown",
   "metadata": {},
   "source": [
    "## Multiple linear regression"
   ]
  },
  {
   "cell_type": "code",
   "execution_count": 27,
   "metadata": {},
   "outputs": [
    {
     "name": "stdout",
     "output_type": "stream",
     "text": [
      "                            OLS Regression Results                            \n",
      "==============================================================================\n",
      "Dep. Variable:                  Price   R-squared:                       0.491\n",
      "Model:                            OLS   Adj. R-squared:                  0.490\n",
      "Method:                 Least Squares   F-statistic:                     547.0\n",
      "Date:                Tue, 05 Nov 2024   Prob (F-statistic):               0.00\n",
      "Time:                        10:59:03   Log-Likelihood:                -24798.\n",
      "No. Observations:                2276   AIC:                         4.961e+04\n",
      "Df Residuals:                    2271   BIC:                         4.963e+04\n",
      "Df Model:                           4                                         \n",
      "Covariance Type:            nonrobust                                         \n",
      "==============================================================================\n",
      "                 coef    std err          t      P>|t|      [0.025      0.975]\n",
      "------------------------------------------------------------------------------\n",
      "const       1.935e+04   1615.244     11.979      0.000    1.62e+04    2.25e+04\n",
      "Mileage       -0.1508      0.005    -28.396      0.000      -0.161      -0.140\n",
      "HP           103.0008      2.631     39.156      0.000      97.842     108.159\n",
      "Year           0.8116      0.664      1.222      0.222      -0.491       2.114\n",
      "Benzin     -6328.7039    614.075    -10.306      0.000   -7532.910   -5124.498\n",
      "==============================================================================\n",
      "Omnibus:                      620.035   Durbin-Watson:                   2.005\n",
      "Prob(Omnibus):                  0.000   Jarque-Bera (JB):             1783.209\n",
      "Skew:                           1.405   Prob(JB):                         0.00\n",
      "Kurtosis:                       6.303   Cond. No.                     5.72e+05\n",
      "==============================================================================\n",
      "\n",
      "Notes:\n",
      "[1] Standard Errors assume that the covariance matrix of the errors is correctly specified.\n",
      "[2] The condition number is large, 5.72e+05. This might indicate that there are\n",
      "strong multicollinearity or other numerical problems.\n"
     ]
    }
   ],
   "source": [
    "# Add constant to the model\n",
    "X_train_const = sm.add_constant(X_train)\n",
    "\n",
    "# Create and fir the multiple regression model\n",
    "olsmod = sm.OLS(y_train, X_train_const).fit()\n",
    "\n",
    "# Print full model output\n",
    "print(olsmod.summary())"
   ]
  },
  {
   "cell_type": "markdown",
   "metadata": {},
   "source": [
    "### Plot histogram of multiple linear regression residuals"
   ]
  },
  {
   "cell_type": "code",
   "execution_count": 28,
   "metadata": {},
   "outputs": [
    {
     "data": {
      "image/png": "[encoded data removed]",
      "text/plain": [
       "<Figure size 600x400 with 1 Axes>"
      ]
     },
     "metadata": {},
     "output_type": "display_data"
    }
   ],
   "source": [
    "# Add constant to the test set\n",
    "X_test_const = sm.add_constant(X_test)\n",
    "\n",
    "# Calculate predictions on the test set\n",
    "y_pred = olsmod.predict(X_test_const)\n",
    "\n",
    "# Calculate residuals on the test set\n",
    "residuals = y_test - y_pred\n",
    "\n",
    "# Plot histogram of residuals (based on the test sample)\n",
    "fig = plt.figure(figsize=(6,4))\n",
    "n, bins, patches = plt.hist(x=residuals, \n",
    "                            bins=25, \n",
    "                            color='blue',\n",
    "                            alpha=0.5)\n",
    "plt.xlabel('residuals', fontsize=10, labelpad=10)\n",
    "plt.ylabel('frequency', fontsize=10, labelpad=10)\n",
    "plt.title('Histogram of multiple linear regression residuals', fontsize=12, pad=10)\n",
    "\n",
    "# Show plot\n",
    "plt.show()"
   ]
  },
  {
   "cell_type": "markdown",
   "metadata": {},
   "source": [
    "## Random forest regression"
   ]
  },
  {
   "cell_type": "markdown",
   "metadata": {},
   "source": [
    "### Fit Random forest regression model"
   ]
  },
  {
   "cell_type": "code",
   "execution_count": 29,
   "metadata": {},
   "outputs": [
    {
     "name": "stdout",
     "output_type": "stream",
     "text": [
      "R-squared: 0.6538\n"
     ]
    }
   ],
   "source": [
    "# Initialize the random forest regressor\n",
    "reg_rf = RandomForestRegressor(n_estimators=500, \n",
    "                               max_depth=10, \n",
    "                               random_state=5)\n",
    "\n",
    "# Fit the model\n",
    "reg_rf.fit(X_train, y_train)\n",
    "\n",
    "# Calculate coefficient of determination (R-squared) based on the test set\n",
    "r2 = r2_score(y_test, reg_rf.predict(X_test))\n",
    "print(f'R-squared: {r2:.4f}')"
   ]
  },
  {
   "cell_type": "markdown",
   "metadata": {},
   "source": [
    "### Plot histogram of random forest regression residuals"
   ]
  },
  {
   "cell_type": "code",
   "execution_count": 30,
   "metadata": {},
   "outputs": [
    {
     "data": {
      "image/png": "[encoded data removed]",
      "text/plain": [
       "<Figure size 600x400 with 1 Axes>"
      ]
     },
     "metadata": {},
     "output_type": "display_data"
    }
   ],
   "source": [
    "# Plot histogram of residuals (based on the test set)\n",
    "fig = plt.figure( figsize=(6,4))\n",
    "n, bins, patches = plt.hist(x=reg_rf.predict(X_test) - y_test, \n",
    "                            bins=25, \n",
    "                            color='blue',\n",
    "                            alpha=0.5\n",
    "                   )\n",
    "\n",
    "# Set labels\n",
    "plt.xlabel('residuals', fontsize=10, labelpad=10)\n",
    "plt.ylabel('frequency', fontsize=10, labelpad=10)\n",
    "plt.title('Histogram of random forest regression residuals', fontsize=12, pad=10)\n",
    "\n",
    "# Show plot\n",
    "plt.show()"
   ]
  },
  {
   "cell_type": "markdown",
   "metadata": {},
   "source": [
    "### Show feature importance"
   ]
  },
  {
   "cell_type": "code",
   "execution_count": 31,
   "metadata": {},
   "outputs": [
    {
     "name": "stdout",
     "output_type": "stream",
     "text": [
      "Index(['HP', 'Mileage', 'Year', 'Benzin'], dtype='object')\n",
      "[0.50869432 0.27945113 0.17965969 0.03219486]\n"
     ]
    },
    {
     "data": {
      "image/png": "[encoded data removed]",
      "text/plain": [
       "<Figure size 600x300 with 1 Axes>"
      ]
     },
     "metadata": {},
     "output_type": "display_data"
    }
   ],
   "source": [
    "# Get feature names from X_train\n",
    "cols = X_train.columns\n",
    "\n",
    "# Derive feature importance from random forest\n",
    "importances = reg_rf.feature_importances_\n",
    "std = np.std([tree.feature_importances_ for tree in reg_rf.estimators_], axis=0)\n",
    "indices = np.argsort(importances)[::-1]\n",
    "\n",
    "# Print col-names and importances-values\n",
    "print(cols[indices])\n",
    "print(importances[indices])\n",
    "\n",
    "# Barplot with feature importance\n",
    "df_fi = pd.DataFrame({'features':cols,'importances': importances})\n",
    "df_fi.sort_values('importances', inplace=True)\n",
    "df_fi.plot(kind='barh', \n",
    "           y='importances', \n",
    "           x='features', \n",
    "           color='darkred', \n",
    "           figsize=(6,3))\n",
    "\n",
    "# Show plot\n",
    "plt.show()"
   ]
  },
  {
   "cell_type": "markdown",
   "metadata": {},
   "source": [
    "### Jupyter notebook --footer info-- (please always provide this at the end of each submitted notebook)"
   ]
  },
  {
   "cell_type": "code",
   "execution_count": 32,
   "metadata": {},
   "outputs": [
    {
     "name": "stdout",
     "output_type": "stream",
     "text": [
      "-----------------------------------\n",
      "NT\n",
      "Windows | 10\n",
      "Datetime: 2024-11-05 10:59:05\n",
      "Python Version: 3.11.9\n",
      "-----------------------------------\n"
     ]
    }
   ],
   "source": [
    "import os\n",
    "import platform\n",
    "import socket\n",
    "from platform import python_version\n",
    "from datetime import datetime\n",
    "\n",
    "print('-----------------------------------')\n",
    "print(os.name.upper())\n",
    "print(platform.system(), '|', platform.release())\n",
    "print('Datetime:', datetime.now().strftime(\"%Y-%m-%d %H:%M:%S\"))\n",
    "print('Python Version:', python_version())\n",
    "print('-----------------------------------')"
   ]
  }
 ],
 "metadata": {
  "kernelspec": {
   "display_name": "daenv",
   "language": "python",
   "name": "python3"
  },
  "language_info": {
   "codemirror_mode": {
    "name": "ipython",
    "version": 3
   },
   "file_extension": ".py",
   "mimetype": "text/x-python",
   "name": "python",
   "nbconvert_exporter": "python",
   "pygments_lexer": "ipython3",
   "version": "3.11.9"
  }
 },
 "nbformat": 4,
 "nbformat_minor": 2
}
