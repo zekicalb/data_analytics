{
 "cells": [
  {
   "cell_type": "markdown",
   "metadata": {},
   "source": [
    "# Stock market analysis using data from the Yahoo-Finance Web API"
   ]
  },
  {
   "cell_type": "markdown",
   "metadata": {},
   "source": [
    "## Libraries and settings"
   ]
  },
  {
   "cell_type": "code",
   "execution_count": 44,
   "metadata": {},
   "outputs": [
    {
     "name": "stdout",
     "output_type": "stream",
     "text": [
      "u:\\Lektionen\\DA_HS2023\\data_analytics\\Week_04\n"
     ]
    }
   ],
   "source": [
    "# Libraries\n",
    "import os\n",
    "import pandas as pd\n",
    "import yfinance as yf\n",
    "import seaborn as sns\n",
    "from datetime import datetime\n",
    "import matplotlib.pyplot as plt\n",
    "\n",
    "# Settings\n",
    "import warnings\n",
    "warnings.filterwarnings(\"ignore\")\n",
    "\n",
    "# Current working directory\n",
    "print(os.getcwd())"
   ]
  },
  {
   "cell_type": "markdown",
   "metadata": {},
   "source": [
    "## 1.) Get data for the stock TSLA (Tesla) from Yahoo Finance"
   ]
  },
  {
   "cell_type": "code",
   "execution_count": 45,
   "metadata": {},
   "outputs": [
    {
     "name": "stdout",
     "output_type": "stream",
     "text": [
      "Today is: 2023-10-04\n"
     ]
    },
    {
     "data": {
      "text/html": [
       "<div>\n",
       "<style scoped>\n",
       "    .dataframe tbody tr th:only-of-type {\n",
       "        vertical-align: middle;\n",
       "    }\n",
       "\n",
       "    .dataframe tbody tr th {\n",
       "        vertical-align: top;\n",
       "    }\n",
       "\n",
       "    .dataframe thead th {\n",
       "        text-align: right;\n",
       "    }\n",
       "</style>\n",
       "<table border=\"1\" class=\"dataframe\">\n",
       "  <thead>\n",
       "    <tr style=\"text-align: right;\">\n",
       "      <th></th>\n",
       "      <th>Open</th>\n",
       "      <th>High</th>\n",
       "      <th>Low</th>\n",
       "      <th>Close</th>\n",
       "      <th>Adj Close</th>\n",
       "      <th>Volume</th>\n",
       "    </tr>\n",
       "    <tr>\n",
       "      <th>Date</th>\n",
       "      <th></th>\n",
       "      <th></th>\n",
       "      <th></th>\n",
       "      <th></th>\n",
       "      <th></th>\n",
       "      <th></th>\n",
       "    </tr>\n",
       "  </thead>\n",
       "  <tbody>\n",
       "    <tr>\n",
       "      <th>2022-01-03</th>\n",
       "      <td>382.583344</td>\n",
       "      <td>400.356659</td>\n",
       "      <td>378.679993</td>\n",
       "      <td>399.926666</td>\n",
       "      <td>399.926666</td>\n",
       "      <td>103931400</td>\n",
       "    </tr>\n",
       "    <tr>\n",
       "      <th>2022-01-04</th>\n",
       "      <td>396.516663</td>\n",
       "      <td>402.666656</td>\n",
       "      <td>374.350006</td>\n",
       "      <td>383.196655</td>\n",
       "      <td>383.196655</td>\n",
       "      <td>100248300</td>\n",
       "    </tr>\n",
       "    <tr>\n",
       "      <th>2022-01-05</th>\n",
       "      <td>382.216675</td>\n",
       "      <td>390.113342</td>\n",
       "      <td>360.336670</td>\n",
       "      <td>362.706665</td>\n",
       "      <td>362.706665</td>\n",
       "      <td>80119800</td>\n",
       "    </tr>\n",
       "    <tr>\n",
       "      <th>2022-01-06</th>\n",
       "      <td>359.000000</td>\n",
       "      <td>362.666656</td>\n",
       "      <td>340.166656</td>\n",
       "      <td>354.899994</td>\n",
       "      <td>354.899994</td>\n",
       "      <td>90336600</td>\n",
       "    </tr>\n",
       "    <tr>\n",
       "      <th>2022-01-07</th>\n",
       "      <td>360.123322</td>\n",
       "      <td>360.309998</td>\n",
       "      <td>336.666656</td>\n",
       "      <td>342.320007</td>\n",
       "      <td>342.320007</td>\n",
       "      <td>84164700</td>\n",
       "    </tr>\n",
       "    <tr>\n",
       "      <th>...</th>\n",
       "      <td>...</td>\n",
       "      <td>...</td>\n",
       "      <td>...</td>\n",
       "      <td>...</td>\n",
       "      <td>...</td>\n",
       "      <td>...</td>\n",
       "    </tr>\n",
       "    <tr>\n",
       "      <th>2023-09-27</th>\n",
       "      <td>244.259995</td>\n",
       "      <td>245.330002</td>\n",
       "      <td>234.580002</td>\n",
       "      <td>240.500000</td>\n",
       "      <td>240.500000</td>\n",
       "      <td>136597200</td>\n",
       "    </tr>\n",
       "    <tr>\n",
       "      <th>2023-09-28</th>\n",
       "      <td>240.020004</td>\n",
       "      <td>247.550003</td>\n",
       "      <td>238.649994</td>\n",
       "      <td>246.380005</td>\n",
       "      <td>246.380005</td>\n",
       "      <td>117058900</td>\n",
       "    </tr>\n",
       "    <tr>\n",
       "      <th>2023-09-29</th>\n",
       "      <td>250.000000</td>\n",
       "      <td>254.770004</td>\n",
       "      <td>246.350006</td>\n",
       "      <td>250.220001</td>\n",
       "      <td>250.220001</td>\n",
       "      <td>128346200</td>\n",
       "    </tr>\n",
       "    <tr>\n",
       "      <th>2023-10-02</th>\n",
       "      <td>244.809998</td>\n",
       "      <td>254.279999</td>\n",
       "      <td>242.619995</td>\n",
       "      <td>251.600006</td>\n",
       "      <td>251.600006</td>\n",
       "      <td>123810400</td>\n",
       "    </tr>\n",
       "    <tr>\n",
       "      <th>2023-10-03</th>\n",
       "      <td>248.610001</td>\n",
       "      <td>250.020004</td>\n",
       "      <td>244.449997</td>\n",
       "      <td>246.529999</td>\n",
       "      <td>246.529999</td>\n",
       "      <td>101762000</td>\n",
       "    </tr>\n",
       "  </tbody>\n",
       "</table>\n",
       "<p>440 rows × 6 columns</p>\n",
       "</div>"
      ],
      "text/plain": [
       "                  Open        High         Low       Close   Adj Close  \\\n",
       "Date                                                                     \n",
       "2022-01-03  382.583344  400.356659  378.679993  399.926666  399.926666   \n",
       "2022-01-04  396.516663  402.666656  374.350006  383.196655  383.196655   \n",
       "2022-01-05  382.216675  390.113342  360.336670  362.706665  362.706665   \n",
       "2022-01-06  359.000000  362.666656  340.166656  354.899994  354.899994   \n",
       "2022-01-07  360.123322  360.309998  336.666656  342.320007  342.320007   \n",
       "...                ...         ...         ...         ...         ...   \n",
       "2023-09-27  244.259995  245.330002  234.580002  240.500000  240.500000   \n",
       "2023-09-28  240.020004  247.550003  238.649994  246.380005  246.380005   \n",
       "2023-09-29  250.000000  254.770004  246.350006  250.220001  250.220001   \n",
       "2023-10-02  244.809998  254.279999  242.619995  251.600006  251.600006   \n",
       "2023-10-03  248.610001  250.020004  244.449997  246.529999  246.529999   \n",
       "\n",
       "               Volume  \n",
       "Date                   \n",
       "2022-01-03  103931400  \n",
       "2022-01-04  100248300  \n",
       "2022-01-05   80119800  \n",
       "2022-01-06   90336600  \n",
       "2022-01-07   84164700  \n",
       "...               ...  \n",
       "2023-09-27  136597200  \n",
       "2023-09-28  117058900  \n",
       "2023-09-29  128346200  \n",
       "2023-10-02  123810400  \n",
       "2023-10-03  101762000  \n",
       "\n",
       "[440 rows x 6 columns]"
      ]
     },
     "execution_count": 45,
     "metadata": {},
     "output_type": "execute_result"
    }
   ],
   "source": [
    "# Retrieve the TESLA stock data from Yahoo finance\n",
    "today = datetime.now().strftime(\"%Y-%m-%d\")\n",
    "print('Today is:', today)\n",
    "\n",
    "df = yf.download('TSLA', start = \"2022-01-01\", end = today, progress=False)\n",
    "df"
   ]
  },
  {
   "cell_type": "markdown",
   "metadata": {},
   "source": [
    "## 2.) Apply non-graphical Exploratory Data Analysis (EDA) methods"
   ]
  },
  {
   "cell_type": "markdown",
   "metadata": {},
   "source": [
    "### a) What are the values for min, max. mean and median of the close price?"
   ]
  },
  {
   "cell_type": "code",
   "execution_count": 46,
   "metadata": {},
   "outputs": [
    {
     "data": {
      "text/html": [
       "<div>\n",
       "<style scoped>\n",
       "    .dataframe tbody tr th:only-of-type {\n",
       "        vertical-align: middle;\n",
       "    }\n",
       "\n",
       "    .dataframe tbody tr th {\n",
       "        vertical-align: top;\n",
       "    }\n",
       "\n",
       "    .dataframe thead th {\n",
       "        text-align: right;\n",
       "    }\n",
       "</style>\n",
       "<table border=\"1\" class=\"dataframe\">\n",
       "  <thead>\n",
       "    <tr style=\"text-align: right;\">\n",
       "      <th></th>\n",
       "      <th>Open</th>\n",
       "      <th>High</th>\n",
       "      <th>Low</th>\n",
       "      <th>Close</th>\n",
       "      <th>Adj Close</th>\n",
       "      <th>Volume</th>\n",
       "    </tr>\n",
       "  </thead>\n",
       "  <tbody>\n",
       "    <tr>\n",
       "      <th>count</th>\n",
       "      <td>440.000000</td>\n",
       "      <td>440.000000</td>\n",
       "      <td>440.000000</td>\n",
       "      <td>440.000000</td>\n",
       "      <td>440.000000</td>\n",
       "      <td>4.400000e+02</td>\n",
       "    </tr>\n",
       "    <tr>\n",
       "      <th>mean</th>\n",
       "      <td>241.112280</td>\n",
       "      <td>246.753697</td>\n",
       "      <td>234.917197</td>\n",
       "      <td>240.752098</td>\n",
       "      <td>240.752098</td>\n",
       "      <td>1.110027e+08</td>\n",
       "    </tr>\n",
       "    <tr>\n",
       "      <th>std</th>\n",
       "      <td>59.231154</td>\n",
       "      <td>60.310723</td>\n",
       "      <td>57.599372</td>\n",
       "      <td>58.720197</td>\n",
       "      <td>58.720197</td>\n",
       "      <td>4.339122e+07</td>\n",
       "    </tr>\n",
       "    <tr>\n",
       "      <th>min</th>\n",
       "      <td>103.000000</td>\n",
       "      <td>111.750000</td>\n",
       "      <td>101.809998</td>\n",
       "      <td>108.099998</td>\n",
       "      <td>108.099998</td>\n",
       "      <td>4.186470e+07</td>\n",
       "    </tr>\n",
       "    <tr>\n",
       "      <th>25%</th>\n",
       "      <td>193.100002</td>\n",
       "      <td>197.472500</td>\n",
       "      <td>189.242500</td>\n",
       "      <td>193.862503</td>\n",
       "      <td>193.862503</td>\n",
       "      <td>7.878105e+07</td>\n",
       "    </tr>\n",
       "    <tr>\n",
       "      <th>50%</th>\n",
       "      <td>244.208328</td>\n",
       "      <td>250.453331</td>\n",
       "      <td>238.479996</td>\n",
       "      <td>242.658333</td>\n",
       "      <td>242.658333</td>\n",
       "      <td>1.015698e+08</td>\n",
       "    </tr>\n",
       "    <tr>\n",
       "      <th>75%</th>\n",
       "      <td>283.044991</td>\n",
       "      <td>288.680840</td>\n",
       "      <td>276.315834</td>\n",
       "      <td>283.038338</td>\n",
       "      <td>283.038338</td>\n",
       "      <td>1.357304e+08</td>\n",
       "    </tr>\n",
       "    <tr>\n",
       "      <th>max</th>\n",
       "      <td>396.516663</td>\n",
       "      <td>402.666656</td>\n",
       "      <td>378.679993</td>\n",
       "      <td>399.926666</td>\n",
       "      <td>399.926666</td>\n",
       "      <td>3.065906e+08</td>\n",
       "    </tr>\n",
       "  </tbody>\n",
       "</table>\n",
       "</div>"
      ],
      "text/plain": [
       "             Open        High         Low       Close   Adj Close  \\\n",
       "count  440.000000  440.000000  440.000000  440.000000  440.000000   \n",
       "mean   241.112280  246.753697  234.917197  240.752098  240.752098   \n",
       "std     59.231154   60.310723   57.599372   58.720197   58.720197   \n",
       "min    103.000000  111.750000  101.809998  108.099998  108.099998   \n",
       "25%    193.100002  197.472500  189.242500  193.862503  193.862503   \n",
       "50%    244.208328  250.453331  238.479996  242.658333  242.658333   \n",
       "75%    283.044991  288.680840  276.315834  283.038338  283.038338   \n",
       "max    396.516663  402.666656  378.679993  399.926666  399.926666   \n",
       "\n",
       "             Volume  \n",
       "count  4.400000e+02  \n",
       "mean   1.110027e+08  \n",
       "std    4.339122e+07  \n",
       "min    4.186470e+07  \n",
       "25%    7.878105e+07  \n",
       "50%    1.015698e+08  \n",
       "75%    1.357304e+08  \n",
       "max    3.065906e+08  "
      ]
     },
     "execution_count": 46,
     "metadata": {},
     "output_type": "execute_result"
    }
   ],
   "source": [
    "df.describe()"
   ]
  },
  {
   "cell_type": "markdown",
   "metadata": {},
   "source": [
    "### b) What is the 10% Quantile and 90% quantile of close price?"
   ]
  },
  {
   "cell_type": "code",
   "execution_count": 47,
   "metadata": {},
   "outputs": [
    {
     "data": {
      "text/html": [
       "<div>\n",
       "<style scoped>\n",
       "    .dataframe tbody tr th:only-of-type {\n",
       "        vertical-align: middle;\n",
       "    }\n",
       "\n",
       "    .dataframe tbody tr th {\n",
       "        vertical-align: top;\n",
       "    }\n",
       "\n",
       "    .dataframe thead th {\n",
       "        text-align: right;\n",
       "    }\n",
       "</style>\n",
       "<table border=\"1\" class=\"dataframe\">\n",
       "  <thead>\n",
       "    <tr style=\"text-align: right;\">\n",
       "      <th></th>\n",
       "      <th>Open</th>\n",
       "      <th>High</th>\n",
       "      <th>Low</th>\n",
       "      <th>Close</th>\n",
       "      <th>Adj Close</th>\n",
       "      <th>Volume</th>\n",
       "    </tr>\n",
       "  </thead>\n",
       "  <tbody>\n",
       "    <tr>\n",
       "      <th>0.1</th>\n",
       "      <td>167.33</td>\n",
       "      <td>170.91</td>\n",
       "      <td>163.87</td>\n",
       "      <td>167.70</td>\n",
       "      <td>167.70</td>\n",
       "      <td>62503290.0</td>\n",
       "    </tr>\n",
       "    <tr>\n",
       "      <th>0.9</th>\n",
       "      <td>311.01</td>\n",
       "      <td>315.22</td>\n",
       "      <td>301.87</td>\n",
       "      <td>309.39</td>\n",
       "      <td>309.39</td>\n",
       "      <td>170765500.0</td>\n",
       "    </tr>\n",
       "  </tbody>\n",
       "</table>\n",
       "</div>"
      ],
      "text/plain": [
       "       Open    High     Low   Close  Adj Close       Volume\n",
       "0.1  167.33  170.91  163.87  167.70     167.70   62503290.0\n",
       "0.9  311.01  315.22  301.87  309.39     309.39  170765500.0"
      ]
     },
     "execution_count": 47,
     "metadata": {},
     "output_type": "execute_result"
    }
   ],
   "source": [
    "df.quantile(q=[0.10, 0.90]).round(2)"
   ]
  },
  {
   "cell_type": "markdown",
   "metadata": {},
   "source": [
    "## 3.) Apply graphical Exploratory Data Analysis (EDA) methods"
   ]
  },
  {
   "cell_type": "markdown",
   "metadata": {},
   "source": [
    "### a) Plot a line chart of the close price"
   ]
  },
  {
   "cell_type": "code",
   "execution_count": 48,
   "metadata": {},
   "outputs": [
    {
     "data": {
      "image/png": "[encoded data removed]",
      "text/plain": [
       "<Figure size 800x500 with 1 Axes>"
      ]
     },
     "metadata": {},
     "output_type": "display_data"
    }
   ],
   "source": [
    "# Create the plot\n",
    "plt.figure(figsize=(8, 5))\n",
    "\n",
    "# Set the title and axis labels\n",
    "plt.title('Close price')\n",
    "plt.xlabel('Date')\n",
    "plt.ylabel('Price (USD)')\n",
    "\n",
    "plt.plot(df.Close, lw=1.0, label='Close price (USD)')\n",
    "\n",
    "# Add a legend to the axis\n",
    "plt.legend()\n",
    "\n",
    "# Add grid\n",
    "plt.grid()\n",
    "\n",
    "plt.show()"
   ]
  },
  {
   "cell_type": "markdown",
   "metadata": {},
   "source": [
    "### b) Plot a histogram of the close price"
   ]
  },
  {
   "cell_type": "code",
   "execution_count": 49,
   "metadata": {},
   "outputs": [
    {
     "data": {
      "image/png": "[encoded data removed]",
      "text/plain": [
       "<Figure size 700x400 with 1 Axes>"
      ]
     },
     "metadata": {},
     "output_type": "display_data"
    }
   ],
   "source": [
    "# Plot Histogram\n",
    "fig = plt.figure( figsize=(7,4))\n",
    "\n",
    "n, bins, patches = plt.hist(x=df['Close'], \n",
    "                            bins=25, \n",
    "                            color='#42AD12',\n",
    "                            alpha=0.5, \n",
    "                            rwidth=0.95\n",
    "                   )\n",
    "\n",
    "# Plot settings\n",
    "plt.xlabel('Close price (USD)', fontsize=10, labelpad=10)\n",
    "plt.ylabel('Frequency', fontsize=10, labelpad=10)\n",
    "plt.title('Histogram of Close prices', fontsize=12, pad=10)\n",
    "\n",
    "# Show plot\n",
    "plt.show()"
   ]
  },
  {
   "cell_type": "markdown",
   "metadata": {},
   "source": [
    "### c) Plot a boxplot of the close price"
   ]
  },
  {
   "cell_type": "code",
   "execution_count": 50,
   "metadata": {},
   "outputs": [
    {
     "data": {
      "image/png": "[encoded data removed]",
      "text/plain": [
       "<Figure size 800x120 with 1 Axes>"
      ]
     },
     "metadata": {},
     "output_type": "display_data"
    }
   ],
   "source": [
    "# Plot Boxplot\n",
    "plt.figure(figsize=(8,1.2))\n",
    "plt.ticklabel_format(style='plain')\n",
    "sns.boxplot(x=df['Close'], color=\"greenyellow\")\n",
    "\n",
    "# Show plot\n",
    "plt.show()"
   ]
  },
  {
   "attachments": {},
   "cell_type": "markdown",
   "metadata": {},
   "source": [
    "### Jupyter notebook --footer info-- (please always provide this at the end of each notebook)"
   ]
  },
  {
   "cell_type": "code",
   "execution_count": 51,
   "metadata": {},
   "outputs": [
    {
     "name": "stdout",
     "output_type": "stream",
     "text": [
      "-----------------------------------\n",
      "NT\n",
      "Windows | 10\n",
      "Datetime: 2023-10-04 17:04:34\n",
      "Python Version: 3.10.12\n",
      "-----------------------------------\n"
     ]
    }
   ],
   "source": [
    "import os\n",
    "import platform\n",
    "import socket\n",
    "from platform import python_version\n",
    "from datetime import datetime\n",
    "\n",
    "print('-----------------------------------')\n",
    "print(os.name.upper())\n",
    "print(platform.system(), '|', platform.release())\n",
    "print('Datetime:', datetime.now().strftime(\"%Y-%m-%d %H:%M:%S\"))\n",
    "print('Python Version:', python_version())\n",
    "print('-----------------------------------')"
   ]
  }
 ],
 "metadata": {
  "kernelspec": {
   "display_name": "adsenv",
   "language": "python",
   "name": "python3"
  },
  "language_info": {
   "codemirror_mode": {
    "name": "ipython",
    "version": 3
   },
   "file_extension": ".py",
   "mimetype": "text/x-python",
   "name": "python",
   "nbconvert_exporter": "python",
   "pygments_lexer": "ipython3",
   "version": "3.10.12"
  },
  "vscode": {
   "interpreter": {
    "hash": "18632da57c1a416bf8be4aa27ba4ca7c1f66541805f18b0825a162dab4e44f29"
   }
  }
 },
 "nbformat": 4,
 "nbformat_minor": 2
}
