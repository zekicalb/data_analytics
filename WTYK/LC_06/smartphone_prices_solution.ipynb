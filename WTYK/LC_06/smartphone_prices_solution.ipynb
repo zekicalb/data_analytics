{
 "cells": [
  {
   "cell_type": "markdown",
   "metadata": {},
   "source": [
    "# Simulation and Analysis of Smartphone Data"
   ]
  },
  {
   "cell_type": "markdown",
   "metadata": {},
   "source": [
    "## Libraries and settings"
   ]
  },
  {
   "cell_type": "code",
   "execution_count": null,
   "metadata": {},
   "outputs": [],
   "source": [
    "# Libraries\n",
    "import os\n",
    "import random\n",
    "import numpy as np\n",
    "import pandas as pd\n",
    "import seaborn as sns\n",
    "import scipy.stats as stats\n",
    "import matplotlib.pyplot as plt\n",
    "from IPython.display import Image\n",
    "\n",
    "# Ignore warnings\n",
    "import warnings\n",
    "warnings.filterwarnings(\"ignore\")\n",
    "\n",
    "# Show current working directory\n",
    "print(os.getcwd())"
   ]
  },
  {
   "cell_type": "code",
   "execution_count": null,
   "metadata": {},
   "outputs": [],
   "source": [
    "Image(\"smartphones.jpg\", width=500)"
   ]
  },
  {
   "cell_type": "markdown",
   "metadata": {},
   "source": [
    "## Simulation of smarthone data"
   ]
  },
  {
   "cell_type": "code",
   "execution_count": null,
   "metadata": {},
   "outputs": [],
   "source": [
    "# Define lists of possible brands and types\n",
    "brands = ['Apple', 'Samsung', 'Google']\n",
    "types = ['iPhone 13', 'Galaxy S23', 'Google Pixel 8']\n",
    "\n",
    "# Set parameters for the normal distribution of prices for each brand\n",
    "brand_parameters = {\n",
    "    'Apple': {'mean': 900, 'std': 200},\n",
    "    'Samsung': {'mean': 800, 'std': 150},\n",
    "    'Google': {'mean': 700, 'std': 120}\n",
    "}\n",
    "\n",
    "# Number of entries\n",
    "p_n = 10000\n",
    "\n",
    "# Set a seed for random number generation\n",
    "random.seed(42)  # Set a seed for the random module\n",
    "np.random.seed(42)  # Set a seed for NumPy\n",
    "\n",
    "# Generate random data\n",
    "data = []\n",
    "\n",
    "for _ in range(p_n):\n",
    "    brand = random.choice(brands)\n",
    "    phone_type = random.choice(types)\n",
    "    price_mean = brand_parameters[brand]['mean']\n",
    "    price_std = brand_parameters[brand]['std']\n",
    "    price = int(np.random.normal(loc=price_mean, scale=price_std))\n",
    "    data.append([brand, phone_type, price])\n",
    "\n",
    "# Create a DataFrame\n",
    "df = pd.DataFrame(data, columns=['Brand', 'Type', 'Price'])\n",
    "df.head()"
   ]
  },
  {
   "cell_type": "markdown",
   "metadata": {},
   "source": [
    "## Grouped boxplots showing how smartphone prices vary per brand"
   ]
  },
  {
   "cell_type": "code",
   "execution_count": null,
   "metadata": {},
   "outputs": [],
   "source": [
    "# Create a grouped boxplot using Seaborn\n",
    "plt.figure(figsize=(8,2))\n",
    "plt.title('Smartphone prices by brand')\n",
    "plt.xlabel('Brand')\n",
    "plt.ylabel('Price')\n",
    "sns.boxplot(x='Price', \n",
    "            y='Brand', \n",
    "            data=df,\n",
    "            palette='Set2',\n",
    "            orient='h')\n",
    "plt.show()"
   ]
  },
  {
   "cell_type": "markdown",
   "metadata": {},
   "source": [
    "## Anlysis of Variance (ANOVA)"
   ]
  },
  {
   "cell_type": "code",
   "execution_count": null,
   "metadata": {},
   "outputs": [],
   "source": [
    "# Hypotheses:\n",
    "# H0: There are no price differences between groups (smartphone brands)\n",
    "# H1: There are price differences between groups (smartphone brands)\n",
    "\n",
    "# Significance level alpha\n",
    "alpha = 0.05\n",
    "\n",
    "# Create ANOVA\n",
    "fvalue, pvalue = stats.f_oneway(df.loc[df['Brand'] == 'Apple']['Price'],\n",
    "                                df.loc[df['Brand'] == 'Samsung']['Price'],\n",
    "                                df.loc[df['Brand'] == 'Google']['Price'])\n",
    "\n",
    "# Print results\n",
    "print('F-value:', fvalue.round(3), 'p-value', pvalue.round(4))\n",
    "\n",
    "# Interpretation\n",
    "print('\\nInterpretation:')\n",
    "if pvalue < alpha:\n",
    "    print(f\"The differences in smartphone prices among brands are statistically significant at the {alpha} significance level.\")\n",
    "else:\n",
    "    print(f\"There is no statistically significant difference in smartphone prices among brands at the {alpha} significance level.\")"
   ]
  },
  {
   "cell_type": "markdown",
   "metadata": {},
   "source": [
    "### Jupyter notebook --footer info-- (please always provide this at the end of each notebook)"
   ]
  },
  {
   "cell_type": "code",
   "execution_count": null,
   "metadata": {},
   "outputs": [],
   "source": [
    "import os\n",
    "import platform\n",
    "import socket\n",
    "from platform import python_version\n",
    "from datetime import datetime\n",
    "\n",
    "print('-----------------------------------')\n",
    "print(os.name.upper())\n",
    "print(platform.system(), '|', platform.release())\n",
    "print('Datetime:', datetime.now().strftime(\"%Y-%m-%d %H:%M:%S\"))\n",
    "print('Python Version:', python_version())\n",
    "print('-----------------------------------')"
   ]
  }
 ],
 "metadata": {
  "kernelspec": {
   "display_name": "daenv",
   "language": "python",
   "name": "python3"
  },
  "language_info": {
   "codemirror_mode": {
    "name": "ipython",
    "version": 3
   },
   "file_extension": ".py",
   "mimetype": "text/x-python",
   "name": "python",
   "nbconvert_exporter": "python",
   "pygments_lexer": "ipython3",
   "version": "3.11.9"
  }
 },
 "nbformat": 4,
 "nbformat_minor": 2
}
