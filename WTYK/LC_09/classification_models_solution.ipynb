{
 "cells": [
  {
   "cell_type": "markdown",
   "metadata": {},
   "source": [
    "# Classification models based on data about pets"
   ]
  },
  {
   "cell_type": "markdown",
   "metadata": {},
   "source": [
    "## Libraries and settings"
   ]
  },
  {
   "cell_type": "code",
   "execution_count": 1,
   "metadata": {},
   "outputs": [
    {
     "name": "stdout",
     "output_type": "stream",
     "text": [
      "u:\\Lektionen\\GitHub_Repositories\\data_analytics\\WTYK\\LC_09\n"
     ]
    }
   ],
   "source": [
    "# Libraries\n",
    "import os\n",
    "import random\n",
    "import numpy as np\n",
    "import pandas as pd\n",
    "from sklearn import tree\n",
    "from sklearn import metrics\n",
    "import matplotlib.pyplot as plt\n",
    "from sklearn.datasets import make_classification\n",
    "from sklearn.tree import DecisionTreeClassifier\n",
    "from sklearn.ensemble import RandomForestClassifier\n",
    "from sklearn.model_selection import cross_val_score\n",
    "from sklearn.model_selection import train_test_split\n",
    "\n",
    "# Ignore warnings\n",
    "import warnings\n",
    "warnings.filterwarnings('ignore')\n",
    "\n",
    "# Show current working directory\n",
    "print(os.getcwd())"
   ]
  },
  {
   "cell_type": "markdown",
   "metadata": {},
   "source": [
    "## Simulate pet data"
   ]
  },
  {
   "cell_type": "code",
   "execution_count": 2,
   "metadata": {},
   "outputs": [
    {
     "data": {
      "text/html": [
       "<div>\n",
       "<style scoped>\n",
       "    .dataframe tbody tr th:only-of-type {\n",
       "        vertical-align: middle;\n",
       "    }\n",
       "\n",
       "    .dataframe tbody tr th {\n",
       "        vertical-align: top;\n",
       "    }\n",
       "\n",
       "    .dataframe thead th {\n",
       "        text-align: right;\n",
       "    }\n",
       "</style>\n",
       "<table border=\"1\" class=\"dataframe\">\n",
       "  <thead>\n",
       "    <tr style=\"text-align: right;\">\n",
       "      <th></th>\n",
       "      <th>age</th>\n",
       "      <th>color</th>\n",
       "      <th>weight</th>\n",
       "      <th>height</th>\n",
       "      <th>eats_meat</th>\n",
       "      <th>pets</th>\n",
       "    </tr>\n",
       "  </thead>\n",
       "  <tbody>\n",
       "    <tr>\n",
       "      <th>0</th>\n",
       "      <td>11</td>\n",
       "      <td>red</td>\n",
       "      <td>57.802836</td>\n",
       "      <td>54.630046</td>\n",
       "      <td>yes</td>\n",
       "      <td>dog</td>\n",
       "    </tr>\n",
       "    <tr>\n",
       "      <th>1</th>\n",
       "      <td>2</td>\n",
       "      <td>blue</td>\n",
       "      <td>21.092782</td>\n",
       "      <td>42.600560</td>\n",
       "      <td>no</td>\n",
       "      <td>dog</td>\n",
       "    </tr>\n",
       "    <tr>\n",
       "      <th>2</th>\n",
       "      <td>1</td>\n",
       "      <td>yellow</td>\n",
       "      <td>50.890789</td>\n",
       "      <td>39.851515</td>\n",
       "      <td>no</td>\n",
       "      <td>dog</td>\n",
       "    </tr>\n",
       "    <tr>\n",
       "      <th>3</th>\n",
       "      <td>12</td>\n",
       "      <td>green</td>\n",
       "      <td>57.048548</td>\n",
       "      <td>58.311737</td>\n",
       "      <td>no</td>\n",
       "      <td>dog</td>\n",
       "    </tr>\n",
       "    <tr>\n",
       "      <th>4</th>\n",
       "      <td>5</td>\n",
       "      <td>green</td>\n",
       "      <td>79.897163</td>\n",
       "      <td>29.141598</td>\n",
       "      <td>no</td>\n",
       "      <td>dog</td>\n",
       "    </tr>\n",
       "    <tr>\n",
       "      <th>...</th>\n",
       "      <td>...</td>\n",
       "      <td>...</td>\n",
       "      <td>...</td>\n",
       "      <td>...</td>\n",
       "      <td>...</td>\n",
       "      <td>...</td>\n",
       "    </tr>\n",
       "    <tr>\n",
       "      <th>995</th>\n",
       "      <td>2</td>\n",
       "      <td>red</td>\n",
       "      <td>20.141257</td>\n",
       "      <td>28.470592</td>\n",
       "      <td>no</td>\n",
       "      <td>fish</td>\n",
       "    </tr>\n",
       "    <tr>\n",
       "      <th>996</th>\n",
       "      <td>2</td>\n",
       "      <td>blue</td>\n",
       "      <td>25.453178</td>\n",
       "      <td>19.130771</td>\n",
       "      <td>yes</td>\n",
       "      <td>fish</td>\n",
       "    </tr>\n",
       "    <tr>\n",
       "      <th>997</th>\n",
       "      <td>3</td>\n",
       "      <td>green</td>\n",
       "      <td>19.971044</td>\n",
       "      <td>25.084742</td>\n",
       "      <td>no</td>\n",
       "      <td>fish</td>\n",
       "    </tr>\n",
       "    <tr>\n",
       "      <th>998</th>\n",
       "      <td>14</td>\n",
       "      <td>green</td>\n",
       "      <td>1.595759</td>\n",
       "      <td>29.920450</td>\n",
       "      <td>no</td>\n",
       "      <td>fish</td>\n",
       "    </tr>\n",
       "    <tr>\n",
       "      <th>999</th>\n",
       "      <td>2</td>\n",
       "      <td>blue</td>\n",
       "      <td>1.389727</td>\n",
       "      <td>21.129671</td>\n",
       "      <td>no</td>\n",
       "      <td>fish</td>\n",
       "    </tr>\n",
       "  </tbody>\n",
       "</table>\n",
       "<p>4000 rows × 6 columns</p>\n",
       "</div>"
      ],
      "text/plain": [
       "     age   color     weight     height eats_meat  pets\n",
       "0     11     red  57.802836  54.630046       yes   dog\n",
       "1      2    blue  21.092782  42.600560        no   dog\n",
       "2      1  yellow  50.890789  39.851515        no   dog\n",
       "3     12   green  57.048548  58.311737        no   dog\n",
       "4      5   green  79.897163  29.141598        no   dog\n",
       "..   ...     ...        ...        ...       ...   ...\n",
       "995    2     red  20.141257  28.470592        no  fish\n",
       "996    2    blue  25.453178  19.130771       yes  fish\n",
       "997    3   green  19.971044  25.084742        no  fish\n",
       "998   14   green   1.595759  29.920450        no  fish\n",
       "999    2    blue   1.389727  21.129671        no  fish\n",
       "\n",
       "[4000 rows x 6 columns]"
      ]
     },
     "execution_count": 2,
     "metadata": {},
     "output_type": "execute_result"
    }
   ],
   "source": [
    "# Set a seed for reproducibility\n",
    "random.seed(42)\n",
    "\n",
    "# Function to generate pets\n",
    "def pets(pet_type, weight_min, weight_max, height_min, height_max, n_animals=1000):\n",
    "\n",
    "    pets = pd.DataFrame({\n",
    "            'age': [random.randint(1, 15) for _ in range(n_animals)],\n",
    "            'color': [random.choice(['red', 'blue', 'green', 'yellow']) for _ in range(n_animals)],\n",
    "            'weight': [random.uniform(weight_min, weight_max) for _ in range(n_animals)],\n",
    "            'height': [random.uniform(height_min, height_max) for _ in range(n_animals)],\n",
    "            'eats_meat': [random.choice(['yes', 'no']) for _ in range(n_animals)],\n",
    "            'pets': [pet_type for _ in range(n_animals)]})\n",
    "\n",
    "    return pets\n",
    "\n",
    "# Simulate animals\n",
    "dogs = pets('dog', weight_min=5, weight_max=80, height_min=20, height_max=90)\n",
    "cats = pets('cat', weight_min=2, weight_max=8, height_min=20, height_max=40)\n",
    "birds = pets('bird', weight_min=0.2, weight_max=7, height_min=10, height_max=80)\n",
    "fishes = pets('fish', weight_min=0.1, weight_max=30, height_min=10, height_max=30)\n",
    "\n",
    "df_orig = pd.concat([dogs, cats, birds, fishes])\n",
    "df_orig"
   ]
  },
  {
   "cell_type": "markdown",
   "metadata": {},
   "source": [
    "## Convert categorical features to numerical using one-hot encoding"
   ]
  },
  {
   "cell_type": "code",
   "execution_count": 3,
   "metadata": {},
   "outputs": [
    {
     "data": {
      "text/html": [
       "<div>\n",
       "<style scoped>\n",
       "    .dataframe tbody tr th:only-of-type {\n",
       "        vertical-align: middle;\n",
       "    }\n",
       "\n",
       "    .dataframe tbody tr th {\n",
       "        vertical-align: top;\n",
       "    }\n",
       "\n",
       "    .dataframe thead th {\n",
       "        text-align: right;\n",
       "    }\n",
       "</style>\n",
       "<table border=\"1\" class=\"dataframe\">\n",
       "  <thead>\n",
       "    <tr style=\"text-align: right;\">\n",
       "      <th></th>\n",
       "      <th>age</th>\n",
       "      <th>weight</th>\n",
       "      <th>height</th>\n",
       "      <th>color_blue</th>\n",
       "      <th>color_green</th>\n",
       "      <th>color_red</th>\n",
       "      <th>color_yellow</th>\n",
       "      <th>eats_meat_no</th>\n",
       "      <th>eats_meat_yes</th>\n",
       "    </tr>\n",
       "  </thead>\n",
       "  <tbody>\n",
       "    <tr>\n",
       "      <th>0</th>\n",
       "      <td>11</td>\n",
       "      <td>57.802836</td>\n",
       "      <td>54.630046</td>\n",
       "      <td>False</td>\n",
       "      <td>False</td>\n",
       "      <td>True</td>\n",
       "      <td>False</td>\n",
       "      <td>False</td>\n",
       "      <td>True</td>\n",
       "    </tr>\n",
       "    <tr>\n",
       "      <th>1</th>\n",
       "      <td>2</td>\n",
       "      <td>21.092782</td>\n",
       "      <td>42.600560</td>\n",
       "      <td>True</td>\n",
       "      <td>False</td>\n",
       "      <td>False</td>\n",
       "      <td>False</td>\n",
       "      <td>True</td>\n",
       "      <td>False</td>\n",
       "    </tr>\n",
       "    <tr>\n",
       "      <th>2</th>\n",
       "      <td>1</td>\n",
       "      <td>50.890789</td>\n",
       "      <td>39.851515</td>\n",
       "      <td>False</td>\n",
       "      <td>False</td>\n",
       "      <td>False</td>\n",
       "      <td>True</td>\n",
       "      <td>True</td>\n",
       "      <td>False</td>\n",
       "    </tr>\n",
       "    <tr>\n",
       "      <th>3</th>\n",
       "      <td>12</td>\n",
       "      <td>57.048548</td>\n",
       "      <td>58.311737</td>\n",
       "      <td>False</td>\n",
       "      <td>True</td>\n",
       "      <td>False</td>\n",
       "      <td>False</td>\n",
       "      <td>True</td>\n",
       "      <td>False</td>\n",
       "    </tr>\n",
       "    <tr>\n",
       "      <th>4</th>\n",
       "      <td>5</td>\n",
       "      <td>79.897163</td>\n",
       "      <td>29.141598</td>\n",
       "      <td>False</td>\n",
       "      <td>True</td>\n",
       "      <td>False</td>\n",
       "      <td>False</td>\n",
       "      <td>True</td>\n",
       "      <td>False</td>\n",
       "    </tr>\n",
       "    <tr>\n",
       "      <th>...</th>\n",
       "      <td>...</td>\n",
       "      <td>...</td>\n",
       "      <td>...</td>\n",
       "      <td>...</td>\n",
       "      <td>...</td>\n",
       "      <td>...</td>\n",
       "      <td>...</td>\n",
       "      <td>...</td>\n",
       "      <td>...</td>\n",
       "    </tr>\n",
       "    <tr>\n",
       "      <th>995</th>\n",
       "      <td>2</td>\n",
       "      <td>20.141257</td>\n",
       "      <td>28.470592</td>\n",
       "      <td>False</td>\n",
       "      <td>False</td>\n",
       "      <td>True</td>\n",
       "      <td>False</td>\n",
       "      <td>True</td>\n",
       "      <td>False</td>\n",
       "    </tr>\n",
       "    <tr>\n",
       "      <th>996</th>\n",
       "      <td>2</td>\n",
       "      <td>25.453178</td>\n",
       "      <td>19.130771</td>\n",
       "      <td>True</td>\n",
       "      <td>False</td>\n",
       "      <td>False</td>\n",
       "      <td>False</td>\n",
       "      <td>False</td>\n",
       "      <td>True</td>\n",
       "    </tr>\n",
       "    <tr>\n",
       "      <th>997</th>\n",
       "      <td>3</td>\n",
       "      <td>19.971044</td>\n",
       "      <td>25.084742</td>\n",
       "      <td>False</td>\n",
       "      <td>True</td>\n",
       "      <td>False</td>\n",
       "      <td>False</td>\n",
       "      <td>True</td>\n",
       "      <td>False</td>\n",
       "    </tr>\n",
       "    <tr>\n",
       "      <th>998</th>\n",
       "      <td>14</td>\n",
       "      <td>1.595759</td>\n",
       "      <td>29.920450</td>\n",
       "      <td>False</td>\n",
       "      <td>True</td>\n",
       "      <td>False</td>\n",
       "      <td>False</td>\n",
       "      <td>True</td>\n",
       "      <td>False</td>\n",
       "    </tr>\n",
       "    <tr>\n",
       "      <th>999</th>\n",
       "      <td>2</td>\n",
       "      <td>1.389727</td>\n",
       "      <td>21.129671</td>\n",
       "      <td>True</td>\n",
       "      <td>False</td>\n",
       "      <td>False</td>\n",
       "      <td>False</td>\n",
       "      <td>True</td>\n",
       "      <td>False</td>\n",
       "    </tr>\n",
       "  </tbody>\n",
       "</table>\n",
       "<p>4000 rows × 9 columns</p>\n",
       "</div>"
      ],
      "text/plain": [
       "     age     weight     height  color_blue  color_green  color_red  \\\n",
       "0     11  57.802836  54.630046       False        False       True   \n",
       "1      2  21.092782  42.600560        True        False      False   \n",
       "2      1  50.890789  39.851515       False        False      False   \n",
       "3     12  57.048548  58.311737       False         True      False   \n",
       "4      5  79.897163  29.141598       False         True      False   \n",
       "..   ...        ...        ...         ...          ...        ...   \n",
       "995    2  20.141257  28.470592       False        False       True   \n",
       "996    2  25.453178  19.130771        True        False      False   \n",
       "997    3  19.971044  25.084742       False         True      False   \n",
       "998   14   1.595759  29.920450       False         True      False   \n",
       "999    2   1.389727  21.129671        True        False      False   \n",
       "\n",
       "     color_yellow  eats_meat_no  eats_meat_yes  \n",
       "0           False         False           True  \n",
       "1           False          True          False  \n",
       "2            True          True          False  \n",
       "3           False          True          False  \n",
       "4           False          True          False  \n",
       "..            ...           ...            ...  \n",
       "995         False          True          False  \n",
       "996         False         False           True  \n",
       "997         False          True          False  \n",
       "998         False          True          False  \n",
       "999         False          True          False  \n",
       "\n",
       "[4000 rows x 9 columns]"
      ]
     },
     "execution_count": 3,
     "metadata": {},
     "output_type": "execute_result"
    }
   ],
   "source": [
    "X = pd.get_dummies(df_orig.drop('pets', axis=1))\n",
    "X"
   ]
  },
  {
   "cell_type": "markdown",
   "metadata": {},
   "source": [
    "### Create train and test samples (train = 80%, test = 20% of the data)"
   ]
  },
  {
   "cell_type": "code",
   "execution_count": 4,
   "metadata": {},
   "outputs": [
    {
     "name": "stdout",
     "output_type": "stream",
     "text": [
      "X_train:\n",
      "     age     weight     height  color_blue  color_green  color_red  \\\n",
      "994   11  28.303778  29.153755        True        False      False   \n",
      "423    1  11.018749  69.502804       False         True      False   \n",
      "991    3   0.418171  78.328731       False        False       True   \n",
      "221    4   3.811082  29.331735       False         True      False   \n",
      "506    1  38.734012  47.503155       False        False       True   \n",
      "\n",
      "     color_yellow  eats_meat_no  eats_meat_yes  \n",
      "994         False         False           True  \n",
      "423         False         False           True  \n",
      "991         False         False           True  \n",
      "221         False         False           True  \n",
      "506         False          True          False   \n",
      "\n",
      "y_train:\n",
      "994    fish\n",
      "423     dog\n",
      "991    bird\n",
      "221     cat\n",
      "506     dog\n",
      "Name: pets, dtype: object\n"
     ]
    }
   ],
   "source": [
    "# Create train and test samples\n",
    "X_train, X_test, y_train, y_test = train_test_split(X,\n",
    "                                                    df_orig['pets'], \n",
    "                                                    test_size=0.20, \n",
    "                                                    random_state=42)\n",
    "\n",
    "# Show X_train\n",
    "print('X_train:')\n",
    "print(X_train.head(), '\\n')\n",
    "\n",
    "# Show y_train\n",
    "print('y_train:')\n",
    "print(y_train.head())"
   ]
  },
  {
   "cell_type": "markdown",
   "metadata": {},
   "source": [
    "## Fit a classification tree"
   ]
  },
  {
   "cell_type": "code",
   "execution_count": 5,
   "metadata": {},
   "outputs": [],
   "source": [
    "# Create decision tree regressor object\n",
    "clf = DecisionTreeClassifier(random_state=20, \n",
    "                             max_depth=3)\n",
    "\n",
    "# Train decision tree regressor\n",
    "clf = clf.fit(X_train, y_train)\n",
    "\n",
    "# Predict the response for test dataset\n",
    "y_pred = clf.predict(X_test)"
   ]
  },
  {
   "cell_type": "markdown",
   "metadata": {},
   "source": [
    "## Use cross-validation to evaluate the model performance"
   ]
  },
  {
   "cell_type": "code",
   "execution_count": 6,
   "metadata": {},
   "outputs": [
    {
     "name": "stdout",
     "output_type": "stream",
     "text": [
      "[0.8438, 0.8375, 0.8562, 0.7938, 0.8625]"
     ]
    }
   ],
   "source": [
    "# Cross-validation (5-fold)\n",
    "cv = cross_val_score(clf, \n",
    "                     X_test, \n",
    "                     y_test, \n",
    "                     cv=5, \n",
    "                     scoring='accuracy')\n",
    "\n",
    "# Result\n",
    "print(list(cv.round(4)), end=\"\")"
   ]
  },
  {
   "cell_type": "markdown",
   "metadata": {},
   "source": [
    "## Plot the classification tree"
   ]
  },
  {
   "cell_type": "code",
   "execution_count": 7,
   "metadata": {},
   "outputs": [
    {
     "data": {
      "image/png": "[encoded data removed]",
      "text/plain": [
       "<Figure size 900x600 with 1 Axes>"
      ]
     },
     "metadata": {},
     "output_type": "display_data"
    }
   ],
   "source": [
    "# Get unique class names\n",
    "unique_class_names = df_orig['pets'].unique()\n",
    "\n",
    "# For the meaning of numbers in each box, look at the root node\n",
    "fig = plt.figure(figsize=(9,6))\n",
    "\n",
    "# Plot the \n",
    "tree_plot = tree.plot_tree(clf,\n",
    "                           feature_names=list(X_train.columns),\n",
    "                           class_names=['fish', 'cat', 'dog', 'bird'],\n",
    "                           filled=True,\n",
    "                           fontsize=7,\n",
    "                           label='root',\n",
    "                           precision=1)"
   ]
  },
  {
   "cell_type": "markdown",
   "metadata": {},
   "source": [
    "## Fit the Random Forest Classifier"
   ]
  },
  {
   "cell_type": "code",
   "execution_count": 8,
   "metadata": {},
   "outputs": [
    {
     "name": "stdout",
     "output_type": "stream",
     "text": [
      "Accuracy: 0.8525\n"
     ]
    }
   ],
   "source": [
    "clf_rf = RandomForestClassifier(n_estimators=500, \n",
    "                               max_depth=10, \n",
    "                               random_state=42)\n",
    "clf_rf.fit(X_train, y_train)\n",
    "\n",
    "# Predict the response for test dataset\n",
    "y_pred = clf_rf.predict(X_test)\n",
    "\n",
    "# Calculate accuracy\n",
    "print(f'Accuracy: {metrics.accuracy_score(y_test, y_pred):.4f}')"
   ]
  },
  {
   "cell_type": "markdown",
   "metadata": {},
   "source": [
    "## Show feature importance"
   ]
  },
  {
   "cell_type": "code",
   "execution_count": 9,
   "metadata": {},
   "outputs": [
    {
     "name": "stdout",
     "output_type": "stream",
     "text": [
      "Index(['weight', 'height', 'age', 'color_red', 'color_blue', 'eats_meat_no',\n",
      "       'color_green', 'eats_meat_yes', 'color_yellow'],\n",
      "      dtype='object')\n",
      "[0.52785436 0.41947015 0.03243662 0.00361166 0.00351354 0.00337957\n",
      " 0.00329605 0.00323345 0.0032046 ]\n"
     ]
    },
    {
     "data": {
      "text/plain": [
       "<Axes: ylabel='features'>"
      ]
     },
     "execution_count": 9,
     "metadata": {},
     "output_type": "execute_result"
    },
    {
     "data": {
      "image/png": "[encoded data removed]",
      "text/plain": [
       "<Figure size 600x300 with 1 Axes>"
      ]
     },
     "metadata": {},
     "output_type": "display_data"
    }
   ],
   "source": [
    "cols = X_train.columns\n",
    "\n",
    "# Derive feature importance from random forest\n",
    "importances = clf_rf.feature_importances_\n",
    "std         = np.std([tree.feature_importances_ for tree in clf_rf.estimators_], axis=0)\n",
    "indices     = np.argsort(importances)[::-1]\n",
    "\n",
    "# Print col-names and importances-values\n",
    "print( cols[indices] )\n",
    "print( importances[indices] )\n",
    "\n",
    "# Barplot with feature importance\n",
    "df_fi = pd.DataFrame({'features':cols,'importances': importances})\n",
    "df_fi.sort_values('importances', inplace=True)\n",
    "df_fi.plot(kind='barh', \n",
    "           y='importances', \n",
    "           x='features', \n",
    "           color='darkred', \n",
    "           figsize=(6,3))"
   ]
  },
  {
   "cell_type": "markdown",
   "metadata": {},
   "source": [
    "### Jupyter notebook --footer info-- (please always provide this at the end of each notebook)"
   ]
  },
  {
   "cell_type": "code",
   "execution_count": 10,
   "metadata": {},
   "outputs": [
    {
     "name": "stdout",
     "output_type": "stream",
     "text": [
      "-----------------------------------\n",
      "NT\n",
      "Windows | 10\n",
      "Datetime: 2024-11-18 12:56:08\n",
      "Python Version: 3.11.9\n",
      "-----------------------------------\n"
     ]
    }
   ],
   "source": [
    "import os\n",
    "import platform\n",
    "import socket\n",
    "from platform import python_version\n",
    "from datetime import datetime\n",
    "\n",
    "print('-----------------------------------')\n",
    "print(os.name.upper())\n",
    "print(platform.system(), '|', platform.release())\n",
    "print('Datetime:', datetime.now().strftime(\"%Y-%m-%d %H:%M:%S\"))\n",
    "print('Python Version:', python_version())\n",
    "print('-----------------------------------')"
   ]
  }
 ],
 "metadata": {
  "kernelspec": {
   "display_name": "daenv",
   "language": "python",
   "name": "python3"
  },
  "language_info": {
   "codemirror_mode": {
    "name": "ipython",
    "version": 3
   },
   "file_extension": ".py",
   "mimetype": "text/x-python",
   "name": "python",
   "nbconvert_exporter": "python",
   "pygments_lexer": "ipython3",
   "version": "3.11.9"
  }
 },
 "nbformat": 4,
 "nbformat_minor": 2
}
